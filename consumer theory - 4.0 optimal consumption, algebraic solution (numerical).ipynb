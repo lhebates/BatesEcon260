{
 "cells": [
  {
   "cell_type": "markdown",
   "metadata": {},
   "source": [
    "Import necessary packages."
   ]
  },
  {
   "cell_type": "code",
   "execution_count": 10,
   "metadata": {},
   "outputs": [],
   "source": [
    "# import all functions from python labrary: sympy\n",
    "from sympy import *\n",
    "# import python library: matplotlib (for nice plots)\n",
    "import matplotlib\n",
    "# set sympy output to print pretty math expressions\n",
    "init_printing()"
   ]
  },
  {
   "cell_type": "markdown",
   "metadata": {},
   "source": [
    "Declare variables we are going to use as 'symbols'. We will add more along the way, if necessary."
   ]
  },
  {
   "cell_type": "code",
   "execution_count": 3,
   "metadata": {},
   "outputs": [],
   "source": [
    "q1, q2, p1, p2, y = symbols('q1 q2 p1 p2 y')"
   ]
  },
  {
   "cell_type": "markdown",
   "metadata": {},
   "source": [
    "# 4. Solve for optimal consumption analytically"
   ]
  },
  {
   "cell_type": "markdown",
   "metadata": {},
   "source": [
    "## Setup the optimization program"
   ]
  },
  {
   "cell_type": "markdown",
   "metadata": {},
   "source": [
    "Our optimization problem is\n",
    "\\begin{align}\n",
    "    & \\max_{q_1,q_2} \\quad u(q_1,q_2) = q_1^{\\alpha} q_2^{1-\\alpha} \\\\\n",
    "    \\text{s.t.}\\quad & p_1 q_1 + p_2 q_2 = y\n",
    "\\end{align}"
   ]
  },
  {
   "cell_type": "markdown",
   "metadata": {},
   "source": [
    "## Setup the utility function"
   ]
  },
  {
   "cell_type": "code",
   "execution_count": 4,
   "metadata": {},
   "outputs": [
    {
     "data": {
      "image/png": "[encoded data removed]",
      "text/latex": [
       "$\\displaystyle q_{1}^{0.3} q_{2}^{0.7}$"
      ],
      "text/plain": [
       "  0.3   0.7\n",
       "q₁   ⋅q₂   "
      ]
     },
     "execution_count": 4,
     "metadata": {},
     "output_type": "execute_result"
    }
   ],
   "source": [
    "# define alpha as a rational number of 1/2\n",
    "#alpha = Rational(1,2)\n",
    "alpha = symbols('alpha')\n",
    "alpha = 0.3\n",
    "# define parameter beta as 1 - alpha\n",
    "beta = 1 - alpha\n",
    "\n",
    "\n",
    "# Note: in sympy syntax: use double star ** for power\n",
    "u = q1**(alpha) * q2**(beta)\n",
    "# show the defined function\n",
    "u"
   ]
  },
  {
   "cell_type": "markdown",
   "metadata": {},
   "source": [
    "## Setup the lagrangian"
   ]
  },
  {
   "cell_type": "code",
   "execution_count": 5,
   "metadata": {
    "scrolled": false
   },
   "outputs": [
    {
     "data": {
      "image/png": "[encoded data removed]",
      "text/latex": [
       "$\\displaystyle \\lambda \\left(- p_{1} q_{1} - p_{2} q_{2} + y\\right) + q_{1}^{0.3} q_{2}^{0.7}$"
      ],
      "text/plain": [
       "                           0.3   0.7\n",
       "λ⋅(-p₁⋅q₁ - p₂⋅q₂ + y) + q₁   ⋅q₂   "
      ]
     },
     "execution_count": 5,
     "metadata": {},
     "output_type": "execute_result"
    }
   ],
   "source": [
    "lam = symbols('lambda')\n",
    "lagr = u + lam *(y - p1*q1 - p2*q2)\n",
    "lagr"
   ]
  },
  {
   "cell_type": "markdown",
   "metadata": {},
   "source": [
    "Solve the first-order conditions. \n",
    "\n",
    "Note the syntax of the solve function, especially the use of the brackets:\n",
    "solve( (eq1, eq2, eq3), var1, var2, var3)\n",
    "\n",
    "The equations are by default treated as equal to 0 by the solver."
   ]
  },
  {
   "cell_type": "code",
   "execution_count": 6,
   "metadata": {
    "scrolled": true
   },
   "outputs": [
    {
     "data": {
      "image/png": "[encoded data removed]",
      "text/latex": [
       "$\\displaystyle \\left[ \\left( \\frac{0.3 y}{p_{1}}, \\  \\frac{0.7 y}{p_{2}}, \\  \\frac{0.542881452689825 \\left(\\frac{y}{p_{2}}\\right)^{\\frac{7}{10}}}{p_{1} \\left(\\frac{y}{p_{1}}\\right)^{\\frac{7}{10}}}\\right)\\right]$"
      ],
      "text/plain": [
       "⎡⎛                                    7/10⎞⎤\n",
       "⎢⎜                                ⎛y ⎞    ⎟⎥\n",
       "⎢⎜              0.542881452689825⋅⎜──⎟    ⎟⎥\n",
       "⎢⎜0.3⋅y  0.7⋅y                    ⎝p₂⎠    ⎟⎥\n",
       "⎢⎜─────, ─────, ──────────────────────────⎟⎥\n",
       "⎢⎜  p₁     p₂                 7/10        ⎟⎥\n",
       "⎢⎜                        ⎛y ⎞            ⎟⎥\n",
       "⎢⎜                     p₁⋅⎜──⎟            ⎟⎥\n",
       "⎣⎝                        ⎝p₁⎠            ⎠⎦"
      ]
     },
     "execution_count": 6,
     "metadata": {},
     "output_type": "execute_result"
    }
   ],
   "source": [
    "foc_sol = solve( ( diff(lagr,q1), diff(lagr,q2), diff(lagr,lam) ), q1,q2,lam)\n",
    "foc_sol"
   ]
  },
  {
   "cell_type": "markdown",
   "metadata": {},
   "source": [
    "The solution is a list with one element, because our solution is unique."
   ]
  },
  {
   "cell_type": "code",
   "execution_count": 7,
   "metadata": {
    "scrolled": true
   },
   "outputs": [
    {
     "data": {
      "image/png": "[encoded data removed]",
      "text/latex": [
       "$\\displaystyle \\left( \\frac{0.3 y}{p_{1}}, \\  \\frac{0.7 y}{p_{2}}, \\  \\frac{0.542881452689825 \\left(\\frac{y}{p_{2}}\\right)^{\\frac{7}{10}}}{p_{1} \\left(\\frac{y}{p_{1}}\\right)^{\\frac{7}{10}}}\\right)$"
      ],
      "text/plain": [
       "⎛                                    7/10⎞\n",
       "⎜                                ⎛y ⎞    ⎟\n",
       "⎜              0.542881452689825⋅⎜──⎟    ⎟\n",
       "⎜0.3⋅y  0.7⋅y                    ⎝p₂⎠    ⎟\n",
       "⎜─────, ─────, ──────────────────────────⎟\n",
       "⎜  p₁     p₂                 7/10        ⎟\n",
       "⎜                        ⎛y ⎞            ⎟\n",
       "⎜                     p₁⋅⎜──⎟            ⎟\n",
       "⎝                        ⎝p₁⎠            ⎠"
      ]
     },
     "execution_count": 7,
     "metadata": {},
     "output_type": "execute_result"
    }
   ],
   "source": [
    "foc_sol[0]"
   ]
  },
  {
   "cell_type": "markdown",
   "metadata": {},
   "source": [
    "To access the first element in our solution, which is a list by itself, we use the list index again."
   ]
  },
  {
   "cell_type": "code",
   "execution_count": 13,
   "metadata": {},
   "outputs": [
    {
     "data": {
      "image/png": "[encoded data removed]",
      "text/latex": [
       "$\\displaystyle \\frac{\\alpha y}{p_{1}}$"
      ],
      "text/plain": [
       "α⋅y\n",
       "───\n",
       " p₁"
      ]
     },
     "execution_count": 13,
     "metadata": {},
     "output_type": "execute_result"
    }
   ],
   "source": [
    "q1star = foc_sol[0][0]\n",
    "q1star"
   ]
  },
  {
   "cell_type": "code",
   "execution_count": 14,
   "metadata": {
    "scrolled": true
   },
   "outputs": [
    {
     "data": {
      "image/png": "[encoded data removed]",
      "text/latex": [
       "$\\displaystyle - \\frac{y \\left(\\alpha - 1\\right)}{p_{2}}$"
      ],
      "text/plain": [
       "-y⋅(α - 1) \n",
       "───────────\n",
       "     p₂    "
      ]
     },
     "execution_count": 14,
     "metadata": {},
     "output_type": "execute_result"
    }
   ],
   "source": [
    "q2star = foc_sol[0][1]\n",
    "q2star"
   ]
  },
  {
   "cell_type": "markdown",
   "metadata": {},
   "source": [
    "Substitute optimal consumption into the direct utility function, to calculate the optimal utility level attainable at the given exogenous variables. \n",
    "\n",
    "The resulting function is our **indirect utility function**, $v(p_1,p_2,y)$."
   ]
  },
  {
   "cell_type": "code",
   "execution_count": 39,
   "metadata": {},
   "outputs": [
    {
     "data": {
      "image/png": "[encoded data removed]",
      "text/latex": [
       "$$\\left(\\frac{\\alpha y}{p_{1}}\\right)^{\\alpha} \\left(- \\frac{y \\left(\\alpha - 1\\right)}{p_{2}}\\right)^{- \\alpha + 1}$$"
      ],
      "text/plain": [
       "     α              -α + 1\n",
       "⎛α⋅y⎞  ⎛-y⋅(α - 1) ⎞      \n",
       "⎜───⎟ ⋅⎜───────────⎟      \n",
       "⎝ p₁⎠  ⎝     p₂    ⎠      "
      ]
     },
     "execution_count": 39,
     "metadata": {},
     "output_type": "execute_result"
    }
   ],
   "source": [
    "v = u.subs([(q1,q1star), (q2,q2star)])\n",
    "v"
   ]
  },
  {
   "cell_type": "markdown",
   "metadata": {},
   "source": [
    "Try general function derivatives"
   ]
  },
  {
   "cell_type": "code",
   "execution_count": 8,
   "metadata": {},
   "outputs": [],
   "source": [
    "u = Function('u')(q1)"
   ]
  },
  {
   "cell_type": "code",
   "execution_count": 9,
   "metadata": {},
   "outputs": [
    {
     "data": {
      "image/png": "[encoded data removed]",
      "text/latex": [
       "$\\displaystyle \\frac{d}{d q_{1}} u{\\left(q_{1} \\right)}$"
      ],
      "text/plain": [
       " d        \n",
       "───(u(q₁))\n",
       "dq₁       "
      ]
     },
     "execution_count": 9,
     "metadata": {},
     "output_type": "execute_result"
    }
   ],
   "source": [
    "u.diff(q1)"
   ]
  },
  {
   "cell_type": "code",
   "execution_count": 19,
   "metadata": {},
   "outputs": [],
   "source": [
    "p, pb = symbols('p pb')\n",
    "q = Function('q')(p)\n",
    "pstar = Function('p')(pb)"
   ]
  },
  {
   "cell_type": "code",
   "execution_count": null,
   "metadata": {},
   "outputs": [],
   "source": []
  }
 ],
 "metadata": {
  "kernelspec": {
   "display_name": "Python 3.7.4 64-bit ('anaconda3': virtualenv)",
   "language": "python",
   "name": "python37464bitanaconda3virtualenv4442f6f54c04406894e1eb25c455fa91"
  },
  "language_info": {
   "codemirror_mode": {
    "name": "ipython",
    "version": 3
   },
   "file_extension": ".py",
   "mimetype": "text/x-python",
   "name": "python",
   "nbconvert_exporter": "python",
   "pygments_lexer": "ipython3",
   "version": "3.7.4"
  }
 },
 "nbformat": 4,
 "nbformat_minor": 1
}
