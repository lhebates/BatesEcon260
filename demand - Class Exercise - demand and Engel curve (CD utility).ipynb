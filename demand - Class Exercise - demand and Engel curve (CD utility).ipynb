{
 "cells": [
  {
   "cell_type": "markdown",
   "metadata": {},
   "source": [
    "Import necessary packages."
   ]
  },
  {
   "cell_type": "code",
   "execution_count": 1,
   "metadata": {},
   "outputs": [],
   "source": [
    "# import all functions from python labrary: sympy\n",
    "from sympy import *\n",
    "# import python library: matplotlib (for nice plots)\n",
    "import matplotlib\n",
    "# set sympy output to print pretty math expressions\n",
    "init_printing()"
   ]
  },
  {
   "cell_type": "markdown",
   "metadata": {},
   "source": [
    "Declare variables we are going to use as 'symbols'. We will add more along the way, if necessary."
   ]
  },
  {
   "cell_type": "code",
   "execution_count": 2,
   "metadata": {},
   "outputs": [],
   "source": [
    "### NOTE: it is important here to further declare these variables to be nonzero and positive (otherwise sympy cannot find solution for the FOCs)\n",
    "#    Thanks to Abhi Agarwal for discovering this trick\n",
    "q1, q2, p1, p2, y, ubar, alpha = symbols('q1 q2 p1 p2 y \\overline{U} alpha', nonzero=True, positive=True)"
   ]
  },
  {
   "cell_type": "markdown",
   "metadata": {},
   "source": [
    "# 1. Plotting demand and Engle curves"
   ]
  },
  {
   "cell_type": "markdown",
   "metadata": {},
   "source": [
    "## The standard utility max problem"
   ]
  },
  {
   "cell_type": "markdown",
   "metadata": {},
   "source": [
    "Given the utility maximization problem with CD utility function\n",
    "\\begin{align}\n",
    "    & \\max_{q_1,q_2}\\quad u(q_1,q_2) = q_1^{\\alpha} q_2^{1-\\alpha} \\\\\n",
    "    \\text{s.t.}\\quad & p_1 q_1 + p_2 q_2 = y\n",
    "\\end{align}\n",
    "\n",
    "the derived demands are \n",
    "\\begin{align}\n",
    "    q_1^* &= \\frac{\\alpha y}{p_1} \\\\\n",
    "    q_2^* &= \\frac{(1-\\alpha) y}{p_2}\n",
    "\\end{align}"
   ]
  },
  {
   "cell_type": "markdown",
   "metadata": {},
   "source": [
    "### Question: plotting demand curves (assuming $\\alpha = 1/2$)\n",
    "1. try to plot a demand curve for $q_1^*$, make necessary assumptions about the values of the exogenous variables as you need.\n",
    "1. try to compare two demand curves as $y$ changes. \n",
    "1. try to compare two demand curves as $p_2$ chnages."
   ]
  },
  {
   "cell_type": "markdown",
   "metadata": {},
   "source": [
    "Step 1: inverse the demand. "
   ]
  },
  {
   "cell_type": "code",
   "execution_count": 19,
   "metadata": {},
   "outputs": [
    {
     "data": {
      "image/png": "[encoded data removed]",
      "text/latex": [
       "$\\displaystyle \\frac{0.5 y}{p_{1}}$"
      ],
      "text/plain": [
       "0.5⋅y\n",
       "─────\n",
       "  p₁ "
      ]
     },
     "execution_count": 19,
     "metadata": {},
     "output_type": "execute_result"
    }
   ],
   "source": [
    "# define value of sigma\n",
    "alpha = 1/2\n",
    "\n",
    "# define q1* and q2* in sympy\n",
    "q1star = (alpha * y) / p1\n",
    "q1star.simplify()"
   ]
  },
  {
   "cell_type": "code",
   "execution_count": 20,
   "metadata": {
    "scrolled": true
   },
   "outputs": [
    {
     "data": {
      "image/png": "[encoded data removed]",
      "text/latex": [
       "$\\displaystyle \\left[ \\frac{0.5 y}{q}\\right]$"
      ],
      "text/plain": [
       "⎡0.5⋅y⎤\n",
       "⎢─────⎥\n",
       "⎣  q  ⎦"
      ]
     },
     "execution_count": 20,
     "metadata": {},
     "output_type": "execute_result"
    }
   ],
   "source": [
    "# define a new symbol q\n",
    "q = symbols('q')\n",
    "# solve the equation Demand = q, which is equivalent to (Demand - q) = 0. \n",
    "#   Notice how we solve for the equation\n",
    "DInverse = solve(q1star - q, p1)\n",
    "# note that we have multiple solutions here\n",
    "DInverse"
   ]
  },
  {
   "cell_type": "code",
   "execution_count": 21,
   "metadata": {
    "scrolled": true
   },
   "outputs": [
    {
     "data": {
      "image/png": "[encoded data removed]",
      "text/latex": [
       "$\\displaystyle \\frac{0.5 y}{q}$"
      ],
      "text/plain": [
       "0.5⋅y\n",
       "─────\n",
       "  q  "
      ]
     },
     "execution_count": 21,
     "metadata": {},
     "output_type": "execute_result"
    }
   ],
   "source": [
    "# take the positive solution as quantity\n",
    "DInverse_plot = DInverse[0]\n",
    "DInverse_plot"
   ]
  },
  {
   "cell_type": "code",
   "execution_count": 22,
   "metadata": {},
   "outputs": [
    {
     "data": {
      "image/png": "[encoded data removed]",
      "text/latex": [
       "$\\displaystyle 1.0$"
      ],
      "text/plain": [
       "1.00000000000000"
      ]
     },
     "execution_count": 22,
     "metadata": {},
     "output_type": "execute_result"
    }
   ],
   "source": [
    "N(DInverse_plot.subs([(p2,4),(y,Rational(100)),(q,50)]))"
   ]
  },
  {
   "cell_type": "markdown",
   "metadata": {},
   "source": [
    "Step 2: plot the demand curve (need to make assumptions about values of exogenous variables)"
   ]
  },
  {
   "cell_type": "code",
   "execution_count": 23,
   "metadata": {
    "scrolled": true
   },
   "outputs": [
    {
     "data": {
      "image/png": "[encoded data removed]",
      "text/plain": [
       "<Figure size 432x288 with 1 Axes>"
      ]
     },
     "metadata": {
      "needs_background": "light"
     },
     "output_type": "display_data"
    },
    {
     "data": {
      "text/plain": [
       "<sympy.plotting.plot.Plot at 0x7fd1d0ce79d0>"
      ]
     },
     "execution_count": 23,
     "metadata": {},
     "output_type": "execute_result"
    }
   ],
   "source": [
    "# use plot function\n",
    "plot(DInverse_plot.subs([(p2,4),(y,Rational(100))]), (q,1,50), xlim=[0,50], ylim=[0,50], xlabel=\"$q_1$\", ylabel=\"$p_1$\")"
   ]
  },
  {
   "cell_type": "code",
   "execution_count": 24,
   "metadata": {},
   "outputs": [
    {
     "data": {
      "image/png": "[encoded data removed]",
      "text/plain": [
       "<Figure size 432x288 with 1 Axes>"
      ]
     },
     "metadata": {
      "needs_background": "light"
     },
     "output_type": "display_data"
    }
   ],
   "source": [
    "# use plot function\n",
    "Dplot1 = plot(DInverse_plot.subs([(p2,4),(y,Rational(100))]), (q,1,50), xlim=[0,50], ylim=[0,50], xlabel=\"$q_1$\", ylabel=\"$p_1$\", show=False)\n",
    "Dplot2 = plot(DInverse_plot.subs([(p2,4),(y,Rational(130))]), (q,1,50), xlim=[0,50], ylim=[0,50], xlabel=\"$q_1$\", ylabel=\"$p_1$\", show=False)\n",
    "\n",
    "# combine curves into one plot\n",
    "Dplot_combo = Dplot1\n",
    "Dplot_combo.extend(Dplot2)\n",
    "\n",
    "# assign colors for each line\n",
    "Dplot_combo[0].line_color='salmon'\n",
    "Dplot_combo[1].line_color='orchid'\n",
    "\n",
    "# show plot\n",
    "Dplot_combo.show()"
   ]
  },
  {
   "cell_type": "markdown",
   "metadata": {},
   "source": [
    "### Question: plotting Engel curves\n",
    "1. try to plot an Engel curve for $q_1^*$, make necessary assumptions about the values of the exogenous variables as you need.\n",
    "1. try to compare two Engel curves as $p_1$ changes. \n",
    "1. try to compare two Engel curves as $p_2$ chnages."
   ]
  },
  {
   "cell_type": "code",
   "execution_count": 13,
   "metadata": {},
   "outputs": [
    {
     "data": {
      "image/png": "[encoded data removed]",
      "text/latex": [
       "$\\displaystyle \\left[ 2.0 p_{1} q\\right]$"
      ],
      "text/plain": [
       "[2.0⋅p₁⋅q]"
      ]
     },
     "execution_count": 13,
     "metadata": {},
     "output_type": "execute_result"
    }
   ],
   "source": [
    "# solve the equation Demand = q, which is equivalent to (Demand - q) = 0. \n",
    "#   Notice how we solve for the Engel curve\n",
    "EngelCurve = solve(q1star - q, y)\n",
    "# note that we have multiple solutions here\n",
    "EngelCurve"
   ]
  },
  {
   "cell_type": "code",
   "execution_count": 14,
   "metadata": {},
   "outputs": [
    {
     "data": {
      "image/png": "[encoded data removed]",
      "text/latex": [
       "$\\displaystyle 2.0 p_{1} q$"
      ],
      "text/plain": [
       "2.0⋅p₁⋅q"
      ]
     },
     "execution_count": 14,
     "metadata": {},
     "output_type": "execute_result"
    }
   ],
   "source": [
    "# take the solution as Engel curve\n",
    "EngelCurve_plot = EngelCurve[0]\n",
    "EngelCurve_plot"
   ]
  },
  {
   "cell_type": "markdown",
   "metadata": {},
   "source": [
    "Step 2: plot the Engel curve (need to make assumptions about values of exogenous variables)"
   ]
  },
  {
   "cell_type": "code",
   "execution_count": 16,
   "metadata": {},
   "outputs": [
    {
     "data": {
      "image/png": "[encoded data removed]",
      "text/plain": [
       "<Figure size 432x288 with 1 Axes>"
      ]
     },
     "metadata": {
      "needs_background": "light"
     },
     "output_type": "display_data"
    },
    {
     "data": {
      "text/plain": [
       "<sympy.plotting.plot.Plot at 0x7fd1f10a8390>"
      ]
     },
     "execution_count": 16,
     "metadata": {},
     "output_type": "execute_result"
    }
   ],
   "source": [
    "# use plot function\n",
    "plot(EngelCurve_plot.subs([(p2,4),(p1,4)]), (q,0,10), xlim=[0,10], ylim=[0,50], xlabel=\"$q_1$\", ylabel=\"$y$\")"
   ]
  },
  {
   "cell_type": "code",
   "execution_count": 17,
   "metadata": {},
   "outputs": [
    {
     "data": {
      "image/png": "[encoded data removed]",
      "text/plain": [
       "<Figure size 432x288 with 1 Axes>"
      ]
     },
     "metadata": {
      "needs_background": "light"
     },
     "output_type": "display_data"
    }
   ],
   "source": [
    "# use plot function\n",
    "EngelCurve1 = plot(EngelCurve_plot.subs([(p2,4),(p1,4)]), (q,0,10), xlim=[0,10], ylim=[0,50], xlabel=\"$q_1$\", ylabel=\"$y$\", show=False)\n",
    "EngelCurve2 = plot(EngelCurve_plot.subs([(p2,4),(p1,6)]), (q,0,10), xlim=[0,10], ylim=[0,50], xlabel=\"$q_1$\", ylabel=\"$y$\", show=False)\n",
    "\n",
    "# combine curves into one plot\n",
    "EngelCurve_combo = EngelCurve1\n",
    "EngelCurve_combo.extend(EngelCurve2)\n",
    "\n",
    "# assign colors for each line\n",
    "EngelCurve_combo[0].line_color='salmon'\n",
    "EngelCurve_combo[1].line_color='orchid'\n",
    "\n",
    "# show plot\n",
    "EngelCurve_combo.show()"
   ]
  },
  {
   "cell_type": "code",
   "execution_count": null,
   "metadata": {},
   "outputs": [],
   "source": []
  }
 ],
 "metadata": {
  "kernelspec": {
   "display_name": "Python 3 (ipykernel)",
   "language": "python",
   "name": "python3"
  },
  "language_info": {
   "codemirror_mode": {
    "name": "ipython",
    "version": 3
   },
   "file_extension": ".py",
   "mimetype": "text/x-python",
   "name": "python",
   "nbconvert_exporter": "python",
   "pygments_lexer": "ipython3",
   "version": "3.12.4"
  }
 },
 "nbformat": 4,
 "nbformat_minor": 4
}
