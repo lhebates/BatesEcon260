{
 "cells": [
  {
   "cell_type": "code",
   "execution_count": null,
   "metadata": {},
   "outputs": [],
   "source": [
    "# import all functions from python labrary: sympy\n",
    "from sympy import *\n",
    "# import python library: matplotlib (for nice plots)\n",
    "import matplotlib as plt\n",
    "# set sympy output to print pretty math expressions\n",
    "init_printing()"
   ]
  },
  {
   "cell_type": "markdown",
   "metadata": {},
   "source": [
    "\n",
    "## Setup the Consumer's Choice Problem\n",
    "\n",
    "Set up a consumer's choice problem with the following parameters:\n",
    "- Budget: $ Y $\n",
    "- Prices: $ p_1 $, $ p_2 $\n",
    "\n",
    "The consumer chooses quantities $ q_1 $ and $ q_2 $ to maximize the Cobb-Douglas (CD) utility function:\n",
    "\n",
    "$$ u(q_1, q_2) = q_1^{\\alpha} q_2^{1-\\alpha} $$\n",
    "\n",
    "subject to the budget constraint:\n",
    "\n",
    "$$ p_1 q_1 + p_2 q_2 = Y $$"
   ]
  },
  {
   "cell_type": "markdown",
   "metadata": {},
   "source": [
    "## Setup the optimization program"
   ]
  },
  {
   "cell_type": "markdown",
   "metadata": {},
   "source": [
    "Our optimization problem is\n",
    "\\begin{align}\n",
    "    & \\max_{q_1,q_2} \\quad u(q_1,q_2) = q_1^{\\alpha} q_2^{1-\\alpha} \\\\\n",
    "    \\text{s.t.}\\quad & p_1 q_1 + p_2 q_2 = y\n",
    "\\end{align}"
   ]
  },
  {
   "cell_type": "markdown",
   "metadata": {},
   "source": [
    "This is testing...! yeah!"
   ]
  },
  {
   "cell_type": "markdown",
   "metadata": {},
   "source": [
    "Declare variables we are going to use as 'symbols'. We will add more along the way, if necessary."
   ]
  },
  {
   "cell_type": "code",
   "execution_count": null,
   "metadata": {},
   "outputs": [],
   "source": []
  },
  {
   "cell_type": "markdown",
   "metadata": {},
   "source": [
    "## Setup the utility function"
   ]
  },
  {
   "cell_type": "code",
   "execution_count": null,
   "metadata": {},
   "outputs": [],
   "source": [
    "# define parameter alpha as a symbol\n",
    "\n",
    "# define parameter beta as 1 - alpha\n",
    "\n",
    "\n",
    "\n",
    "# Define utility function\n",
    "# Note: in sympy syntax: use double star ** for power\n",
    "\n",
    "# show the defined function\n"
   ]
  },
  {
   "cell_type": "markdown",
   "metadata": {},
   "source": [
    "## Setup the lagrangian"
   ]
  },
  {
   "cell_type": "code",
   "execution_count": null,
   "metadata": {},
   "outputs": [],
   "source": [
    "\n",
    "# Define the Lagrange multiplier as a symbol\n",
    "\n",
    "# Define the Lagrangian function\n",
    "#   Note: The Lagrangian is the utility function plus the Lagrange multiplier times the budget constraint\n",
    "\n",
    "# Display the Lagrangian function"
   ]
  },
  {
   "cell_type": "markdown",
   "metadata": {},
   "source": [
    "Solve the first-order conditions. \n",
    "\n",
    "Note the syntax of the solve function, especially the use of the brackets:\n",
    "solve( (eq1, eq2, eq3), var1, var2, var3)\n",
    "\n",
    "The equations are by default treated as equal to 0 by the solver."
   ]
  },
  {
   "cell_type": "code",
   "execution_count": null,
   "metadata": {},
   "outputs": [],
   "source": [
    "# Solve the first-order conditions (FOCs) by differentiating the Lagrangian with respect to q1, q2, and lambda\n",
    "# and setting the derivatives to zero. The solve function finds the values of q1, q2, and lambda that satisfy these equations.\n",
    "\n",
    "\n",
    "# Display the solution to the FOCs\n"
   ]
  },
  {
   "cell_type": "markdown",
   "metadata": {},
   "source": [
    "The solution is a list with one element, because our solution is unique."
   ]
  },
  {
   "cell_type": "code",
   "execution_count": null,
   "metadata": {},
   "outputs": [],
   "source": [
    "# Access the first element of the solution list from the first-order conditions\n"
   ]
  },
  {
   "cell_type": "markdown",
   "metadata": {},
   "source": [
    "To access the first element in our solution, which is a list by itself, we use the list index again."
   ]
  },
  {
   "cell_type": "code",
   "execution_count": null,
   "metadata": {},
   "outputs": [],
   "source": [
    "# Access the first element of the solution list from the first-order conditions and assign it to q1star\n",
    "\n",
    "\n",
    "# Display the value of q1star\n"
   ]
  },
  {
   "cell_type": "code",
   "execution_count": null,
   "metadata": {},
   "outputs": [],
   "source": [
    "# Extract the optimal value of q2 from the solution of the first-order conditions\n",
    "\n",
    "\n",
    "# Display the value of q2star\n"
   ]
  },
  {
   "cell_type": "markdown",
   "metadata": {},
   "source": [
    "Substitute optimal consumption into the direct utility function, to calculate the optimal utility level attainable at the given exogenous variables. \n",
    "\n",
    "The resulting function is our **indirect utility function**, $v(p_1,p_2,y)$."
   ]
  },
  {
   "cell_type": "code",
   "execution_count": null,
   "metadata": {},
   "outputs": [],
   "source": [
    "# Substitute the optimal values of q1 and q2 into the utility function to get the indirect utility function\n",
    "\n",
    "\n",
    "# Display the indirect utility function\n"
   ]
  },
  {
   "cell_type": "markdown",
   "metadata": {},
   "source": [
    "### Question: plotting demand curves (assuming $\\alpha = 1/2$)\n",
    "Given demand function $$ q_1^* = \\frac{\\alpha y}{p_1} $$\n",
    "1. try to plot a demand curve for $d_1^*$, make necessary assumptions about the values of the exogenous variables as you need.\n",
    "1. try to compare two demand curves as $y$ changes. \n",
    "1. try to compare two demand curves as $p_2$ chnages."
   ]
  },
  {
   "cell_type": "code",
   "execution_count": null,
   "metadata": {
    "vscode": {
     "languageId": "markdown"
    }
   },
   "outputs": [],
   "source": [
    "# Step 1: Import necessary libraries for plotting\n",
    "# We have already imported matplotlib, so we can use it directly\n",
    "\n",
    "# Step 2: Define the demand function q1_star in terms of the exogenous variables\n",
    "# q1_star = (alpha * y) / p1\n",
    "\n",
    "# Step 3: Set the values for the exogenous variables\n",
    "# For example, alpha = 0.5, y = 100, p2 = 10\n",
    "\n",
    "# Step 4: Create a range of values for p1 to plot the demand curve\n",
    "# For example, p1_values = np.linspace(1, 20, 100)\n",
    "\n",
    "# Step 5: Calculate the corresponding q1_star values for each p1\n",
    "# q1_values = [(alpha * y) / p1 for p1 in p1_values]\n",
    "\n",
    "# Step 6: Plot the demand curve using matplotlib\n",
    "# plt.plot(p1_values, q1_values)\n",
    "# plt.xlabel('Price of Good 1 (p1)')\n",
    "# plt.ylabel('Quantity of Good 1 (q1)')\n",
    "# plt.title('Demand Curve for Good 1')\n",
    "# plt.show()"
   ]
  },
  {
   "cell_type": "markdown",
   "metadata": {},
   "source": [
    "### Question: plotting Engel curves (assuming  $\\alpha=1/2$ )\n",
    "1. try to plot an Engel curve for $d_1^*$, make necessary assumptions about the values of the exogenous variables as you need.\n",
    "1. try to compare two Engel curves as $p_1$ changes. \n",
    "1. try to compare two Engel curves as $p_2$ chnages."
   ]
  },
  {
   "cell_type": "code",
   "execution_count": null,
   "metadata": {
    "vscode": {
     "languageId": "markdown"
    }
   },
   "outputs": [],
   "source": [
    "# Step 1: Import necessary libraries for plotting\n",
    "# We have already imported matplotlib, so we can use it directly\n",
    "\n",
    "# Step 2: Define the demand function q1_star in terms of the exogenous variables\n",
    "# q1_star = (alpha * Y) / p1\n",
    "\n",
    "# Step 3: Set the values for the exogenous variables\n",
    "# For example, alpha = 0.5, p1 = 10, p2 = 10\n",
    "\n",
    "# Step 4: Create a range of values for Y to plot the Engel curve\n",
    "# For example, Y_values = np.linspace(1, 200, 100)\n",
    "\n",
    "# Step 5: Calculate the corresponding q1_star values for each Y\n",
    "# q1_values = [(alpha * Y) / p1 for Y in Y_values]\n",
    "\n",
    "# Step 6: Plot the Engel curve using matplotlib\n",
    "# plt.plot(q1_values, Y_values)\n",
    "# plt.xlabel('Quantity of Good 1 (q1)')\n",
    "# plt.ylabel('Budget (Y)')\n",
    "# plt.title('Engel Curve for Good 1')\n",
    "# plt.show()"
   ]
  }
 ],
 "metadata": {
  "kernelspec": {
   "display_name": "base",
   "language": "python",
   "name": "python3"
  },
  "language_info": {
   "codemirror_mode": {
    "name": "ipython",
    "version": 3
   },
   "file_extension": ".py",
   "mimetype": "text/x-python",
   "name": "python",
   "nbconvert_exporter": "python",
   "pygments_lexer": "ipython3",
   "version": "3.12.4"
  }
 },
 "nbformat": 4,
 "nbformat_minor": 2
}
