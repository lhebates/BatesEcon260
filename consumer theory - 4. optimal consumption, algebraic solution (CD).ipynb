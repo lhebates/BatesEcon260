{
 "cells": [
  {
   "cell_type": "markdown",
   "metadata": {},
   "source": [
    "Import necessary packages."
   ]
  },
  {
   "cell_type": "code",
   "execution_count": 31,
   "metadata": {},
   "outputs": [],
   "source": [
    "# import all functions from python labrary: sympy\n",
    "from sympy import *\n",
    "# import python library: matplotlib (for nice plots)\n",
    "import matplotlib as plt\n",
    "# set sympy output to print pretty math expressions\n",
    "init_printing()"
   ]
  },
  {
   "cell_type": "markdown",
   "metadata": {},
   "source": [
    "Declare variables we are going to use as 'symbols'. We will add more along the way, if necessary."
   ]
  },
  {
   "cell_type": "code",
   "execution_count": 5,
   "metadata": {},
   "outputs": [],
   "source": [
    "q1, q2, p1, p2, y = symbols('q1 q2 p1 p2 y')"
   ]
  },
  {
   "cell_type": "markdown",
   "metadata": {},
   "source": [
    "# 4. Solve for optimal consumption analytically"
   ]
  },
  {
   "cell_type": "markdown",
   "metadata": {},
   "source": [
    "## Setup the optimization program"
   ]
  },
  {
   "cell_type": "markdown",
   "metadata": {},
   "source": [
    "Our optimization problem is\n",
    "\\begin{align}\n",
    "    & \\max_{q_1,q_2} \\quad u(q_1,q_2) = q_1^{\\alpha} q_2^{1-\\alpha} \\\\\n",
    "    \\text{s.t.}\\quad & p_1 q_1 + p_2 q_2 = y\n",
    "\\end{align}"
   ]
  },
  {
   "cell_type": "markdown",
   "metadata": {},
   "source": [
    "## Setup the utility function"
   ]
  },
  {
   "cell_type": "code",
   "execution_count": 7,
   "metadata": {},
   "outputs": [
    {
     "data": {
      "image/png": "[encoded data removed]",
      "text/latex": [
       "$\\displaystyle q_{1}^{\\alpha} q_{2}^{1 - \\alpha}$"
      ],
      "text/plain": [
       "  α   1 - α\n",
       "q₁ ⋅q₂     "
      ]
     },
     "execution_count": 7,
     "metadata": {},
     "output_type": "execute_result"
    }
   ],
   "source": [
    "# define alpha as a rational number of 1/2\n",
    "#alpha = Rational(1,2)\n",
    "alpha = symbols('alpha')\n",
    "# define parameter beta as 1 - alpha\n",
    "beta = 1 - alpha\n",
    "\n",
    "\n",
    "# Note: in sympy syntax: use double star ** for power\n",
    "u = q1**(alpha) * q2**(beta)\n",
    "# show the defined function\n",
    "u"
   ]
  },
  {
   "cell_type": "markdown",
   "metadata": {},
   "source": [
    "## Setup the lagrangian"
   ]
  },
  {
   "cell_type": "code",
   "execution_count": 9,
   "metadata": {
    "scrolled": true
   },
   "outputs": [
    {
     "data": {
      "image/png": "[encoded data removed]",
      "text/latex": [
       "$\\displaystyle \\lambda \\left(- p_{1} q_{1} - p_{2} q_{2} + y\\right) + q_{1}^{\\alpha} q_{2}^{1 - \\alpha}$"
      ],
      "text/plain": [
       "                           α   1 - α\n",
       "λ⋅(-p₁⋅q₁ - p₂⋅q₂ + y) + q₁ ⋅q₂     "
      ]
     },
     "execution_count": 9,
     "metadata": {},
     "output_type": "execute_result"
    }
   ],
   "source": [
    "lam = symbols('lambda')\n",
    "lagr = u + lam *(y - p1*q1 - p2*q2)\n",
    "lagr"
   ]
  },
  {
   "cell_type": "markdown",
   "metadata": {},
   "source": [
    "Solve the first-order conditions. \n",
    "\n",
    "Note the syntax of the solve function, especially the use of the brackets:\n",
    "solve( (eq1, eq2, eq3), var1, var2, var3)\n",
    "\n",
    "The equations are by default treated as equal to 0 by the solver."
   ]
  },
  {
   "cell_type": "code",
   "execution_count": 11,
   "metadata": {
    "scrolled": true
   },
   "outputs": [
    {
     "data": {
      "image/png": "[encoded data removed]",
      "text/latex": [
       "$\\displaystyle \\left[ \\left( \\frac{\\alpha y}{p_{1}}, \\  \\frac{y \\left(1 - \\alpha\\right)}{p_{2}}, \\  \\frac{\\left(\\frac{\\alpha y}{p_{1}}\\right)^{\\alpha} \\left(\\frac{y \\left(1 - \\alpha\\right)}{p_{2}}\\right)^{1 - \\alpha}}{y}\\right)\\right]$"
      ],
      "text/plain": [
       "⎡⎛                     α            1 - α⎞⎤\n",
       "⎢⎜                ⎛α⋅y⎞  ⎛y⋅(1 - α)⎞     ⎟⎥\n",
       "⎢⎜                ⎜───⎟ ⋅⎜─────────⎟     ⎟⎥\n",
       "⎢⎜α⋅y  y⋅(1 - α)  ⎝ p₁⎠  ⎝    p₂   ⎠     ⎟⎥\n",
       "⎢⎜───, ─────────, ───────────────────────⎟⎥\n",
       "⎣⎝ p₁      p₂                y           ⎠⎦"
      ]
     },
     "execution_count": 11,
     "metadata": {},
     "output_type": "execute_result"
    }
   ],
   "source": [
    "foc_sol = solve( ( diff(lagr,q1), diff(lagr,q2), diff(lagr,lam) ), q1,q2,lam)\n",
    "foc_sol"
   ]
  },
  {
   "cell_type": "markdown",
   "metadata": {},
   "source": [
    "The solution is a list with one element, because our solution is unique."
   ]
  },
  {
   "cell_type": "code",
   "execution_count": 6,
   "metadata": {
    "scrolled": true
   },
   "outputs": [
    {
     "data": {
      "image/png": "[encoded data removed]",
      "text/latex": [
       "$\\displaystyle \\left( \\frac{\\alpha y}{p_{1}}, \\  - \\frac{y \\left(\\alpha - 1\\right)}{p_{2}}, \\  \\frac{\\left(\\frac{\\alpha y}{p_{1}}\\right)^{\\alpha} \\left(- \\frac{y \\left(\\alpha - 1\\right)}{p_{2}}\\right)^{1 - \\alpha}}{y}\\right)$"
      ],
      "text/plain": [
       "⎛                       α              1 - α⎞\n",
       "⎜                  ⎛α⋅y⎞  ⎛-y⋅(α - 1) ⎞     ⎟\n",
       "⎜                  ⎜───⎟ ⋅⎜───────────⎟     ⎟\n",
       "⎜α⋅y  -y⋅(α - 1)   ⎝ p₁⎠  ⎝     p₂    ⎠     ⎟\n",
       "⎜───, ───────────, ─────────────────────────⎟\n",
       "⎝ p₁       p₂                  y            ⎠"
      ]
     },
     "execution_count": 6,
     "metadata": {},
     "output_type": "execute_result"
    }
   ],
   "source": [
    "foc_sol[0]"
   ]
  },
  {
   "cell_type": "markdown",
   "metadata": {},
   "source": [
    "To access the first element in our solution, which is a list by itself, we use the list index again."
   ]
  },
  {
   "cell_type": "code",
   "execution_count": 13,
   "metadata": {},
   "outputs": [
    {
     "data": {
      "image/png": "[encoded data removed]",
      "text/latex": [
       "$\\displaystyle \\frac{\\alpha y}{p_{1}}$"
      ],
      "text/plain": [
       "α⋅y\n",
       "───\n",
       " p₁"
      ]
     },
     "execution_count": 13,
     "metadata": {},
     "output_type": "execute_result"
    }
   ],
   "source": [
    "q1star = foc_sol[0][0]\n",
    "q1star"
   ]
  },
  {
   "cell_type": "code",
   "execution_count": 15,
   "metadata": {
    "scrolled": true
   },
   "outputs": [
    {
     "data": {
      "image/png": "[encoded data removed]",
      "text/latex": [
       "$\\displaystyle \\frac{y \\left(1 - \\alpha\\right)}{p_{2}}$"
      ],
      "text/plain": [
       "y⋅(1 - α)\n",
       "─────────\n",
       "    p₂   "
      ]
     },
     "execution_count": 15,
     "metadata": {},
     "output_type": "execute_result"
    }
   ],
   "source": [
    "q2star = foc_sol[0][1]\n",
    "q2star"
   ]
  },
  {
   "cell_type": "markdown",
   "metadata": {},
   "source": [
    "Substitute optimal consumption into the direct utility function, to calculate the optimal utility level attainable at the given exogenous variables. \n",
    "\n",
    "The resulting function is our **indirect utility function**, $v(p_1,p_2,y)$."
   ]
  },
  {
   "cell_type": "code",
   "execution_count": 17,
   "metadata": {
    "scrolled": true
   },
   "outputs": [
    {
     "data": {
      "image/png": "[encoded data removed]",
      "text/latex": [
       "$\\displaystyle \\left(\\frac{\\alpha y}{p_{1}}\\right)^{\\alpha} \\left(\\frac{y \\left(1 - \\alpha\\right)}{p_{2}}\\right)^{1 - \\alpha}$"
      ],
      "text/plain": [
       "     α            1 - α\n",
       "⎛α⋅y⎞  ⎛y⋅(1 - α)⎞     \n",
       "⎜───⎟ ⋅⎜─────────⎟     \n",
       "⎝ p₁⎠  ⎝    p₂   ⎠     "
      ]
     },
     "execution_count": 17,
     "metadata": {},
     "output_type": "execute_result"
    }
   ],
   "source": [
    "v = u.subs([(q1,q1star), (q2,q2star)])\n",
    "v"
   ]
  },
  {
   "cell_type": "markdown",
   "metadata": {},
   "source": [
    "### Question: plotting demand curves (assuming $\\alpha = 1/2$)\n",
    "Given demand function $$ q_1^* = \\frac{\\alpha y}{p_1} $$\n",
    "1. try to plot a demand curve for $d_1^*$, make necessary assumptions about the values of the exogenous variables as you need.\n",
    "1. try to compare two demand curves as $y$ changes. \n",
    "1. try to compare two demand curves as $p_2$ chnages."
   ]
  },
  {
   "cell_type": "code",
   "execution_count": 37,
   "metadata": {},
   "outputs": [
    {
     "data": {
      "image/png": "[encoded data removed]",
      "text/plain": [
       "<Figure size 640x480 with 1 Axes>"
      ]
     },
     "metadata": {},
     "output_type": "display_data"
    }
   ],
   "source": [
    "# Step 1: Import necessary libraries for plotting\n",
    "import matplotlib.pyplot as plt  # Correct import for pyplot\n",
    "\n",
    "# Step 2: Define the demand function q1_star in terms of the exogenous variables\n",
    "# q1_star = (alpha * y) / p1\n",
    "# q1star was undefined, correcting the comment\n",
    "\n",
    "# Step 3: Set the values for the exogenous variables\n",
    "# For example, alpha = 0.5, y = 100, p2 = 10\n",
    "alpha = 0.5\n",
    "y = 100\n",
    "p2 = 10\n",
    "\n",
    "# Step 4: Create a range of values for p1 to plot the demand curve\n",
    "# For example, p1_values = np.linspace(1, 20, 100)\n",
    "import numpy as np\n",
    "p1_values = np.linspace(1, 20, 100)\n",
    "\n",
    "# Step 5: Calculate the corresponding q1_star values for each p1\n",
    "q1_values = [(alpha * y) / p1 for p1 in p1_values]\n",
    "\n",
    "# Step 6: Plot the demand curve using matplotlib\n",
    "plt.plot(q1_values,p1_values)\n",
    "plt.ylabel('Price of Good 1 (p1)')\n",
    "plt.xlabel('Quantity of Good 1 (q1)')\n",
    "plt.title('Demand Curve for Good 1')\n",
    "plt.show()\n"
   ]
  },
  {
   "cell_type": "markdown",
   "metadata": {},
   "source": [
    "### Question: plotting demand curves (assuming $\\alpha = 1/2$)\n",
    "Given demand function $$ q_2^* = \\frac{(1-\\alpha) y}{p_2} $$\n",
    "1. try to plot a demand curve for $q_2^*$, make necessary assumptions about the values of the exogenous variables as you need.\n",
    "1. try to compare two demand curves as $y$ changes. \n",
    "1. try to compare two demand curves as $p_1$ chnages."
   ]
  },
  {
   "cell_type": "code",
   "execution_count": null,
   "metadata": {},
   "outputs": [],
   "source": []
  },
  {
   "cell_type": "markdown",
   "metadata": {},
   "source": [
    "### Question: plotting Engel curves (assuming  $\\alpha=1/2$ )\n",
    "1. try to plot an Engel curve for $d_1^*$, make necessary assumptions about the values of the exogenous variables as you need.\n",
    "1. try to compare two Engel curves as $p_1$ changes. \n",
    "1. try to compare two Engel curves as $p_2$ chnages."
   ]
  },
  {
   "cell_type": "code",
   "execution_count": null,
   "metadata": {},
   "outputs": [],
   "source": []
  }
 ],
 "metadata": {
  "kernelspec": {
   "display_name": "Python 3 (ipykernel)",
   "language": "python",
   "name": "python3"
  },
  "language_info": {
   "codemirror_mode": {
    "name": "ipython",
    "version": 3
   },
   "file_extension": ".py",
   "mimetype": "text/x-python",
   "name": "python",
   "nbconvert_exporter": "python",
   "pygments_lexer": "ipython3",
   "version": "3.12.4"
  }
 },
 "nbformat": 4,
 "nbformat_minor": 4
}
