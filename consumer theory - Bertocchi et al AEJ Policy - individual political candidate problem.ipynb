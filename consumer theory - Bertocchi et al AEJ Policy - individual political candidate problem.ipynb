{
 "cells": [
  {
   "cell_type": "markdown",
   "metadata": {},
   "source": [
    "# Political Competition Model: Incumbent's Optimization Problem\n",
    "\n",
    "Import necessary packages for symbolic mathematics and visualization."
   ]
  },
  {
   "cell_type": "code",
   "execution_count": 1,
   "metadata": {},
   "outputs": [],
   "source": [
    "# Import all functions from SymPy for symbolic mathematics\n",
    "from sympy import *\n",
    "# Import matplotlib for plotting (if needed later)\n",
    "import matplotlib.pyplot as plt\n",
    "# Set SymPy to display mathematical expressions in pretty format\n",
    "init_printing()"
   ]
  },
  {
   "cell_type": "markdown",
   "metadata": {},
   "source": [
    "# Bertocchi et al. (AEJ Policy 2020): Incumbent Politician's Choice Problem\n",
    "\n",
    "This notebook analyzes the optimization problem of an incumbent politician based on the theoretical framework from Bertocchi et al. (2020). We focus on how politicians choose their policy platforms to maximize their expected utility from winning elections."
   ]
  },
  {
   "cell_type": "markdown",
   "metadata": {},
   "source": [
    "## Model Overview\n",
    "\n",
    "We analyze the choice problem of one politician while treating other model components as given:\n",
    "1. **Given**: Probability functions for winning elections (derived from voter behavior)\n",
    "2. **Given**: Political rival's policy choices  \n",
    "3. **To solve**: Incumbent's optimal policy platform choice\n",
    "\n",
    "This approach allows us to understand strategic policy-making in electoral competition."
   ]
  },
  {
   "cell_type": "markdown",
   "metadata": {},
   "source": [
    "## Model Setup: Politician's Decision Variables"
   ]
  },
  {
   "cell_type": "markdown",
   "metadata": {},
   "source": [
    "Each political candidate $\\zeta \\in \\{I,C\\}$ (Incumbent, Challenger) chooses a policy platform with three components:\n",
    "\n",
    "$$q_{\\zeta} = (\\tau_{\\zeta}, e_{\\zeta}, R_{\\zeta})$$\n",
    "\n",
    "where:\n",
    "- $\\tau_{\\zeta} \\in [0,1]$: tax rate on wealth\n",
    "- $e_{\\zeta} \\geq 0$: public expenditure on education  \n",
    "- $R_{\\zeta} \\geq 0$: electoral rent (other public expenditure benefiting the politician)\n",
    "\n",
    "**Government Budget Constraint:**\n",
    "$$ e_{\\zeta} + R_{\\zeta} = [\\tau_{\\zeta} - D(\\tau_{\\zeta})]\\omega $$\n",
    "\n",
    "where:\n",
    "- $\\omega > 0$: total wealth in the jurisdiction\n",
    "- $D(\\tau_{\\zeta}) = \\frac{1}{2}\\tau_{\\zeta}^2$: deadweight cost of taxation (increasing and convex)\n",
    "- Net tax revenue = $(\\tau_{\\zeta} - \\frac{1}{2}\\tau_{\\zeta}^2)\\omega$"
   ]
  },
  {
   "cell_type": "markdown",
   "metadata": {},
   "source": [
    "## Incumbent's Optimization Problem"
   ]
  },
  {
   "cell_type": "markdown",
   "metadata": {},
   "source": [
    "The incumbent politician (I) maximizes expected electoral rent:\n",
    "\n",
    "$$\\max_{\\tau_I, e_I, R_I} \\quad p_I(q_I, q_C) \\cdot R_I$$\n",
    "\n",
    "subject to the government budget constraint:\n",
    "$$(\\tau_I - \\frac{1}{2}\\tau_I^2)\\omega = e_I + R_I$$\n",
    "\n",
    "**Intuition**: The incumbent trades off higher electoral rent ($R_I$) against lower winning probability (since higher $R_I$ means less spending on voter-preferred policies)."
   ]
  },
  {
   "cell_type": "markdown",
   "metadata": {},
   "source": [
    "## Winning Probability Function\n",
    "\n",
    "From the voter model, the incumbent's winning probability is:\n",
    "\n",
    "$$p_I(q_I, q_C) = \\frac{1}{2} + \\phi + (\\tau_C-\\tau_I)\\omega + (e_I-e_C) \\sigma^T$$\n",
    "\n",
    "where:\n",
    "- $\\phi$: incumbency advantage\n",
    "- $\\sigma^T = \\sigma\\lambda^y + (1-\\sigma)\\lambda^o$: weighted average marginal benefit from education\n",
    "- $\\lambda^y, \\lambda^o$: marginal benefits from education for young and old voters\n",
    "- $\\sigma \\in [0,1]$: effective weight of young voters (depends on demographics and voting costs)\n",
    "\n",
    "**Key insight**: Incumbent wins more votes by having lower taxes or higher education spending relative to challenger."
   ]
  },
  {
   "cell_type": "markdown",
   "metadata": {},
   "source": [
    "## Complete Optimization Problem\n",
    "\n",
    "Substituting the winning probability function:\n",
    "\n",
    "$$\\max_{\\tau_I, e_I, R_I} \\quad \\left( \\frac{1}{2} + \\phi + (\\tau_C-\\tau_I)\\omega + (e_I-e_C)\\sigma^T \\right) \\cdot R_I$$\n",
    "\n",
    "subject to:\n",
    "$$(\\tau_I - \\frac{1}{2}\\tau_I^2)\\omega = e_I + R_I$$"
   ]
  },
  {
   "cell_type": "markdown",
   "metadata": {},
   "source": [
    "## Symbolic Solution Using SymPy"
   ]
  },
  {
   "cell_type": "markdown",
   "metadata": {},
   "source": [
    "### Step 1: Declare Symbolic Variables\n",
    "\n",
    "We define all variables as SymPy symbols for symbolic computation."
   ]
  },
  {
   "cell_type": "code",
   "execution_count": 2,
   "metadata": {},
   "outputs": [
    {
     "name": "stdout",
     "output_type": "stream",
     "text": [
      "Symbolic variables defined successfully\n"
     ]
    }
   ],
   "source": [
    "# Policy variables for incumbent (I) and challenger (C)\n",
    "tau_I, tau_C = symbols('tau_I tau_C', real=True, positive=True)\n",
    "e_I, e_C = symbols('e_I e_C', real=True, positive=True) \n",
    "R_I = symbols('R_I', real=True, positive=True)\n",
    "\n",
    "# Model parameters\n",
    "phi = symbols('phi', real=True)  # incumbency advantage\n",
    "omega = symbols('omega', real=True, positive=True)  # total wealth\n",
    "sigma_T = symbols('sigma^T', real=True, positive=True)  # weighted voter preference\n",
    "\n",
    "# Lagrange multiplier\n",
    "lam = symbols('lambda', real=True)\n",
    "\n",
    "print(\"Symbolic variables defined successfully\")"
   ]
  },
  {
   "cell_type": "code",
   "execution_count": 3,
   "metadata": {},
   "outputs": [
    {
     "data": {
      "image/png": "[encoded data removed]",
      "text/latex": [
       "$\\displaystyle \\sigma^{T}$"
      ],
      "text/plain": [
       "σ__T"
      ]
     },
     "execution_count": 3,
     "metadata": {},
     "output_type": "execute_result"
    }
   ],
   "source": [
    "# Display the weighted voter preference parameter\n",
    "sigma_T"
   ]
  },
  {
   "cell_type": "markdown",
   "metadata": {},
   "source": [
    "### Step 2: Define the Objective Function"
   ]
  },
  {
   "cell_type": "code",
   "execution_count": 4,
   "metadata": {},
   "outputs": [
    {
     "name": "stdout",
     "output_type": "stream",
     "text": [
      "Winning probability p_I =\n"
     ]
    },
    {
     "data": {
      "image/png": "[encoded data removed]",
      "text/latex": [
       "$\\displaystyle \\omega \\left(\\tau_{C} - \\tau_{I}\\right) + \\phi + \\sigma^{T} \\left(- e_{C} + e_{I}\\right) + \\frac{1}{2}$"
      ],
      "text/plain": [
       "ω⋅(τ_C - τ_I) + φ + σ__T⋅(-e_C + e_I) + 1/2"
      ]
     },
     "metadata": {},
     "output_type": "display_data"
    },
    {
     "name": "stdout",
     "output_type": "stream",
     "text": [
      "\n",
      "Objective function =\n"
     ]
    },
    {
     "data": {
      "image/png": "[encoded data removed]",
      "text/latex": [
       "$\\displaystyle R_{I} \\left(\\omega \\left(\\tau_{C} - \\tau_{I}\\right) + \\phi + \\sigma^{T} \\left(- e_{C} + e_{I}\\right) + \\frac{1}{2}\\right)$"
      ],
      "text/plain": [
       "R_I⋅(ω⋅(τ_C - τ_I) + φ + σ__T⋅(-e_C + e_I) + 1/2)"
      ]
     },
     "metadata": {},
     "output_type": "display_data"
    }
   ],
   "source": [
    "# Define incumbent's winning probability\n",
    "p_I = Rational(1,2) + phi + (tau_C - tau_I)*omega + (e_I - e_C)*sigma_T\n",
    "\n",
    "print(\"Winning probability p_I =\")\n",
    "display(p_I)\n",
    "\n",
    "# Define incumbent's objective function (expected electoral rent)\n",
    "objective = p_I * R_I\n",
    "\n",
    "print(\"\\nObjective function =\")\n",
    "display(objective)"
   ]
  },
  {
   "cell_type": "markdown",
   "metadata": {},
   "source": [
    "### Step 3: Set up the Lagrangian\n",
    "\n",
    "We use the method of Lagrange multipliers to incorporate the budget constraint."
   ]
  },
  {
   "cell_type": "code",
   "execution_count": 5,
   "metadata": {
    "scrolled": false
   },
   "outputs": [
    {
     "name": "stdout",
     "output_type": "stream",
     "text": [
      "Lagrangian =\n"
     ]
    },
    {
     "data": {
      "image/png": "[encoded data removed]",
      "text/latex": [
       "$\\displaystyle R_{I} \\left(\\omega \\left(\\tau_{C} - \\tau_{I}\\right) + \\phi + \\sigma^{T} \\left(- e_{C} + e_{I}\\right) + \\frac{1}{2}\\right) + \\lambda \\left(- R_{I} - e_{I} + \\omega \\left(- \\frac{\\tau_{I}^{2}}{2} + \\tau_{I}\\right)\\right)$"
      ],
      "text/plain": [
       "                                                      ⎛               ⎛     2  ↪\n",
       "                                                      ⎜               ⎜  τ_I   ↪\n",
       "R_I⋅(ω⋅(τ_C - τ_I) + φ + σ__T⋅(-e_C + e_I) + 1/2) + λ⋅⎜-R_I - e_I + ω⋅⎜- ────  ↪\n",
       "                                                      ⎝               ⎝   2    ↪\n",
       "\n",
       "↪      ⎞⎞\n",
       "↪      ⎟⎟\n",
       "↪ + τ_I⎟⎟\n",
       "↪      ⎠⎠"
      ]
     },
     "metadata": {},
     "output_type": "display_data"
    }
   ],
   "source": [
    "# Government budget constraint: net tax revenue = total spending\n",
    "budget_constraint = (tau_I - Rational(1,2)*tau_I**2)*omega - e_I - R_I\n",
    "\n",
    "# Lagrangian: objective + λ × constraint\n",
    "L = objective + lam * budget_constraint\n",
    "\n",
    "print(\"Lagrangian =\")\n",
    "display(L)"
   ]
  },
  {
   "cell_type": "markdown",
   "metadata": {},
   "source": [
    "### Step 4: Solve First-Order Conditions\n",
    "\n",
    "The first-order conditions are:\n",
    "- $\\frac{\\partial L}{\\partial \\tau_I} = 0$\n",
    "- $\\frac{\\partial L}{\\partial e_I} = 0$  \n",
    "- $\\frac{\\partial L}{\\partial R_I} = 0$\n",
    "- $\\frac{\\partial L}{\\partial \\lambda} = 0$ (budget constraint)"
   ]
  },
  {
   "cell_type": "code",
   "execution_count": 6,
   "metadata": {
    "scrolled": true
   },
   "outputs": [
    {
     "name": "stdout",
     "output_type": "stream",
     "text": [
      "First-order conditions:\n",
      "∂L/∂τ_I = -R_I*omega + lambda*omega*(1 - tau_I)\n",
      "∂L/∂e_I = R_I*sigma^T - lambda\n",
      "∂L/∂R_I = -lambda + omega*(tau_C - tau_I) + phi + sigma^T*(-e_C + e_I) + 1/2\n",
      "∂L/∂λ = -R_I - e_I + omega*(-tau_I**2/2 + tau_I)\n",
      "\n",
      "Solving the system...\n"
     ]
    },
    {
     "data": {
      "image/png": "[encoded data removed]",
      "text/latex": [
       "$\\displaystyle \\left[ \\left( \\frac{\\sigma^{T} - 1}{\\sigma^{T}}, \\  \\frac{2 e_{C} \\left(\\sigma^{T}\\right)^{2} + \\omega \\left(\\sigma^{T}\\right)^{2} - 2 \\omega \\sigma^{T} \\tau_{C} + 2 \\omega \\sigma^{T} - 3 \\omega - 2 \\phi \\sigma^{T} - \\sigma^{T}}{4 \\left(\\sigma^{T}\\right)^{2}}, \\  - \\frac{2 e_{C} \\left(\\sigma^{T}\\right)^{2} - \\omega \\left(\\sigma^{T}\\right)^{2} - 2 \\omega \\sigma^{T} \\tau_{C} + 2 \\omega \\sigma^{T} - \\omega - 2 \\phi \\sigma^{T} - \\sigma^{T}}{4 \\left(\\sigma^{T}\\right)^{2}}, \\  - \\frac{2 e_{C} \\left(\\sigma^{T}\\right)^{2} - \\omega \\left(\\sigma^{T}\\right)^{2} - 2 \\omega \\sigma^{T} \\tau_{C} + 2 \\omega \\sigma^{T} - \\omega - 2 \\phi \\sigma^{T} - \\sigma^{T}}{4 \\sigma^{T}}\\right)\\right]$"
      ],
      "text/plain": [
       "⎡⎛                    2         2                                              ↪\n",
       "⎢⎜σ__T - 1  2⋅e_C⋅σ__T  + ω⋅σ__T  - 2⋅ω⋅σ__T⋅τ_C + 2⋅ω⋅σ__T - 3⋅ω - 2⋅φ⋅σ__T - ↪\n",
       "⎢⎜────────, ────────────────────────────────────────────────────────────────── ↪\n",
       "⎢⎜  σ__T                                          2                            ↪\n",
       "⎣⎝                                          4⋅σ__T                             ↪\n",
       "\n",
       "↪         ⎛          2         2                                               ↪\n",
       "↪  σ__T  -⎝2⋅e_C⋅σ__T  - ω⋅σ__T  - 2⋅ω⋅σ__T⋅τ_C + 2⋅ω⋅σ__T - ω - 2⋅φ⋅σ__T - σ_ ↪\n",
       "↪ ─────, ───────────────────────────────────────────────────────────────────── ↪\n",
       "↪                                               2                              ↪\n",
       "↪                                         4⋅σ__T                               ↪\n",
       "\n",
       "↪   ⎞    ⎛          2         2                                                ↪\n",
       "↪ _T⎠   -⎝2⋅e_C⋅σ__T  - ω⋅σ__T  - 2⋅ω⋅σ__T⋅τ_C + 2⋅ω⋅σ__T - ω - 2⋅φ⋅σ__T - σ__ ↪\n",
       "↪ ────, ────────────────────────────────────────────────────────────────────── ↪\n",
       "↪                                        4⋅σ__T                                ↪\n",
       "↪                                                                              ↪\n",
       "\n",
       "↪  ⎞ ⎞⎤\n",
       "↪ T⎠ ⎟⎥\n",
       "↪ ───⎟⎥\n",
       "↪    ⎟⎥\n",
       "↪    ⎠⎦"
      ]
     },
     "execution_count": 6,
     "metadata": {},
     "output_type": "execute_result"
    }
   ],
   "source": [
    "# Compute first-order conditions\n",
    "foc_tau = diff(L, tau_I)\n",
    "foc_e = diff(L, e_I) \n",
    "foc_R = diff(L, R_I)\n",
    "foc_lam = diff(L, lam)\n",
    "\n",
    "print(\"First-order conditions:\")\n",
    "print(\"∂L/∂τ_I =\", foc_tau)\n",
    "print(\"∂L/∂e_I =\", foc_e)  \n",
    "print(\"∂L/∂R_I =\", foc_R)\n",
    "print(\"∂L/∂λ =\", foc_lam)\n",
    "\n",
    "# Solve the system of equations\n",
    "print(\"\\nSolving the system...\")\n",
    "solutions = solve([foc_tau, foc_e, foc_R, foc_lam], [tau_I, e_I, R_I, lam])\n",
    "solutions"
   ]
  },
  {
   "cell_type": "code",
   "execution_count": 8,
   "metadata": {},
   "outputs": [
    {
     "name": "stdout",
     "output_type": "stream",
     "text": [
      "Optimal tax rate:\n"
     ]
    },
    {
     "data": {
      "image/png": "[encoded data removed]",
      "text/latex": [
       "$\\displaystyle \\frac{\\sigma^{T} - 1}{\\sigma^{T}}$"
      ],
      "text/plain": [
       "σ__T - 1\n",
       "────────\n",
       "  σ__T  "
      ]
     },
     "metadata": {},
     "output_type": "display_data"
    }
   ],
   "source": [
    "# Extract optimal tax rate\n",
    "tau_I_optimal = solutions[0][0]\n",
    "print(\"Optimal tax rate:\")\n",
    "display(tau_I_optimal)"
   ]
  },
  {
   "cell_type": "code",
   "execution_count": null,
   "metadata": {
    "scrolled": true
   },
   "outputs": [
    {
     "data": {
      "image/png": "[encoded data removed]",
      "text/latex": [
       "$\\displaystyle \\frac{2 e_{C} \\left(\\sigma^{T}\\right)^{2} + \\omega \\left(\\sigma^{T}\\right)^{2} - 2 \\omega \\sigma^{T} \\tau_{C} + 2 \\omega \\sigma^{T} - 3 \\omega - 2 \\phi \\sigma^{T} - \\sigma^{T}}{4 \\left(\\sigma^{T}\\right)^{2}}$"
      ],
      "text/plain": [
       "          2         2                                                  \n",
       "2⋅e_C⋅σ__T  + ω⋅σ__T  - 2⋅ω⋅σ__T⋅τ_C + 2⋅ω⋅σ__T - 3⋅ω - 2⋅φ⋅σ__T - σ__T\n",
       "───────────────────────────────────────────────────────────────────────\n",
       "                                      2                                \n",
       "                                4⋅σ__T                                 "
      ]
     },
     "execution_count": 18,
     "metadata": {},
     "output_type": "execute_result"
    }
   ],
   "source": [
    "# Extract optimal education expenditure  \n",
    "e_I_optimal = solutions[0][1]\n",
    "print(\"Optimal education expenditure:\")\n",
    "display(e_I_optimal)"
   ]
  },
  {
   "cell_type": "code",
   "execution_count": null,
   "metadata": {
    "scrolled": true
   },
   "outputs": [
    {
     "data": {
      "image/png": "[encoded data removed]",
      "text/latex": [
       "$\\displaystyle - \\frac{2 e_{C} \\left(\\sigma^{T}\\right)^{2} - \\omega \\left(\\sigma^{T}\\right)^{2} - 2 \\omega \\sigma^{T} \\tau_{C} + 2 \\omega \\sigma^{T} - \\omega - 2 \\phi \\sigma^{T} - \\sigma^{T}}{4 \\left(\\sigma^{T}\\right)^{2}}$"
      ],
      "text/plain": [
       " ⎛          2         2                                                ⎞ \n",
       "-⎝2⋅e_C⋅σ__T  - ω⋅σ__T  - 2⋅ω⋅σ__T⋅τ_C + 2⋅ω⋅σ__T - ω - 2⋅φ⋅σ__T - σ__T⎠ \n",
       "─────────────────────────────────────────────────────────────────────────\n",
       "                                       2                                 \n",
       "                                 4⋅σ__T                                  "
      ]
     },
     "execution_count": 19,
     "metadata": {},
     "output_type": "execute_result"
    }
   ],
   "source": [
    "# Extract optimal electoral rent\n",
    "R_I_optimal = solutions[0][2]\n",
    "print(\"Optimal electoral rent:\")\n",
    "display(R_I_optimal)"
   ]
  },
  {
   "cell_type": "markdown",
   "metadata": {},
   "source": [
    "### Step 5: Verify the Solution\n",
    "\n",
    "Let's verify that our solutions satisfy the budget constraint."
   ]
  },
  {
   "cell_type": "code",
   "execution_count": null,
   "metadata": {},
   "outputs": [],
   "source": [
    "# Substitute optimal values into budget constraint\n",
    "net_revenue = (tau_I_optimal - Rational(1,2)*tau_I_optimal**2)*omega\n",
    "total_spending = e_I_optimal + R_I_optimal\n",
    "\n",
    "print(\"Net tax revenue:\")\n",
    "display(simplify(net_revenue))\n",
    "print(\"\\nTotal spending (e_I + R_I):\")  \n",
    "display(simplify(total_spending))\n",
    "print(\"\\nBudget constraint satisfied:\", simplify(net_revenue - total_spending) == 0)"
   ]
  },
  {
   "cell_type": "markdown",
   "metadata": {},
   "source": [
    "## Comparative Statics Analysis"
   ]
  },
  {
   "cell_type": "markdown",
   "metadata": {},
   "source": [
    "### How does the incumbent respond to the challenger's education policy?\n",
    "\n",
    "We examine $\\frac{\\partial e_I^*}{\\partial e_C}$ to understand strategic policy interactions."
   ]
  },
  {
   "cell_type": "code",
   "execution_count": null,
   "metadata": {},
   "outputs": [
    {
     "data": {
      "image/png": "[encoded data removed]",
      "text/latex": [
       "$\\displaystyle \\frac{1}{2}$"
      ],
      "text/plain": [
       "1/2"
      ]
     },
     "execution_count": 20,
     "metadata": {},
     "output_type": "execute_result"
    }
   ],
   "source": [
    "# Compute how incumbent's education spending responds to challenger's education spending\n",
    "response_to_challenger = diff(e_I_optimal, e_C)\n",
    "\n",
    "print(\"∂e_I*/∂e_C =\")\n",
    "display(response_to_challenger)\n",
    "\n",
    "print(\"\\nInterpretation:\")\n",
    "if response_to_challenger == -1:\n",
    "    print(\"• Perfect strategic substitution: each $1 increase in challenger's education\")\n",
    "    print(\"  spending leads to exactly $1 decrease in incumbent's education spending\")\n",
    "    print(\"• This suggests pure rent-seeking behavior - politicians compete by\")  \n",
    "    print(\"  differentiating their platforms rather than matching them\")\n",
    "else:\n",
    "    print(\"• The response coefficient is:\", response_to_challenger)"
   ]
  },
  {
   "cell_type": "markdown",
   "metadata": {},
   "source": [
    "### Additional Comparative Statics\n",
    "\n",
    "Let's examine how the incumbent responds to other key parameters."
   ]
  },
  {
   "cell_type": "code",
   "execution_count": null,
   "metadata": {},
   "outputs": [],
   "source": [
    "# Response to changes in voter preferences for education\n",
    "response_to_sigma = diff(e_I_optimal, sigma_T)\n",
    "print(\"∂e_I*/∂σᵀ =\")\n",
    "display(response_to_sigma)\n",
    "\n",
    "# Response to changes in total wealth\n",
    "response_to_wealth = diff(e_I_optimal, omega)  \n",
    "print(\"\\n∂e_I*/∂ω =\")\n",
    "display(response_to_wealth)\n",
    "\n",
    "# Response to challenger's tax policy\n",
    "response_to_tau_C = diff(e_I_optimal, tau_C)\n",
    "print(\"\\n∂e_I*/∂τ_C =\")\n",
    "display(response_to_tau_C)"
   ]
  },
  {
   "cell_type": "markdown",
   "metadata": {},
   "source": [
    "## Appendix: Derivation of Winning Probability Function"
   ]
  },
  {
   "cell_type": "markdown",
   "metadata": {},
   "source": [
    "The incumbent's winning probability comes from the voter model. Each voter type has utility:\n",
    "\n",
    "**Young voters:** $U^y(q_{\\zeta}) = (1-\\tau_{\\zeta})\\omega + \\lambda^y e_{\\zeta}$\n",
    "**Old voters:** $U^o(q_{\\zeta}) = (1-\\tau_{\\zeta})\\omega + \\lambda^o e_{\\zeta}$\n",
    "\n",
    "The winning probability is:\n",
    "$$p_I(q_I,q_C) = \\frac{1}{2} + \\phi + \\sigma(U^y(q_I) - U^y(q_C)) + (1-\\sigma)(U^o(q_I) - U^o(q_C))$$\n",
    "\n",
    "where $\\sigma = \\frac{\\alpha}{\\alpha + (1-\\alpha)\\frac{\\bar{c}^y}{\\bar{c}^o}}$ depends on:\n",
    "- $\\alpha$: fraction of young voters in population\n",
    "- $\\bar{c}^y, \\bar{c}^o$: voting cost parameters for young and old voters"
   ]
  },
  {
   "cell_type": "markdown",
   "metadata": {},
   "source": [
    "### Simplifying the Utility Differences\n",
    "\n",
    "The utility differences are:\n",
    "$$U^y(q_I) - U^y(q_C) = (\\tau_C-\\tau_I)\\omega + \\lambda^y (e_I-e_C)$$\n",
    "$$U^o(q_I) - U^o(q_C) = (\\tau_C-\\tau_I)\\omega + \\lambda^o (e_I-e_C)$$\n",
    "\n",
    "Both voter types prefer lower taxes and may have different preferences for education spending."
   ]
  },
  {
   "cell_type": "markdown",
   "metadata": {},
   "source": [
    "### Final Winning Probability Expression\n",
    "\n",
    "Substituting the utility differences:\n",
    "\\begin{align}\n",
    "p_I(q_I,q_C) &= \\frac{1}{2} + \\phi + \\sigma[(\\tau_C-\\tau_I)\\omega + \\lambda^y (e_I-e_C)] \\\\\n",
    "&\\quad + (1-\\sigma)[(\\tau_C-\\tau_I)\\omega + \\lambda^o (e_I-e_C)] \\\\\n",
    "&= \\frac{1}{2} + \\phi + (\\tau_C-\\tau_I)\\omega + (e_I-e_C)[\\sigma\\lambda^y + (1-\\sigma)\\lambda^o] \\\\\n",
    "&= \\frac{1}{2} + \\phi + (\\tau_C-\\tau_I)\\omega + (e_I-e_C)\\sigma^T\n",
    "\\end{align}\n",
    "\n",
    "where $\\sigma^T = \\sigma\\lambda^y + (1-\\sigma)\\lambda^o$ is the population-weighted marginal benefit from education."
   ]
  }
 ],
 "metadata": {
  "kernelspec": {
   "display_name": ".venv (3.13.7)",
   "language": "python",
   "name": "python3"
  },
  "language_info": {
   "codemirror_mode": {
    "name": "ipython",
    "version": 3
   },
   "file_extension": ".py",
   "mimetype": "text/x-python",
   "name": "python",
   "nbconvert_exporter": "python",
   "pygments_lexer": "ipython3",
   "version": "3.12.4"
  }
 },
 "nbformat": 4,
 "nbformat_minor": 1
}
